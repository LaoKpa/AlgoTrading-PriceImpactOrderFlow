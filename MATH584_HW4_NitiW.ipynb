{
 "cells": [
  {
   "cell_type": "code",
   "execution_count": 1,
   "metadata": {},
   "outputs": [],
   "source": [
    "# import packages\n",
    "\n",
    "import scipy.io as sio  # for loading matlab data\n",
    "\n",
    "import numpy as np      # for numerical libs\n",
    "\n",
    "from matplotlib.ticker import FuncFormatter # for custom bar plot labels\n",
    "\n",
    "import matplotlib.pyplot as plt  # for plotting\n",
    "\n",
    "import matplotlib.pylab as pylab\n",
    "params = {'legend.fontsize': 'x-large',\n",
    "          'figure.figsize': (15, 5),\n",
    "         'axes.labelsize': 'x-large',\n",
    "         'axes.titlesize':'x-large',\n",
    "         'xtick.labelsize':'x-large',\n",
    "         'ytick.labelsize':'x-large'}\n",
    "pylab.rcParams.update(params)\n",
    "from statsmodels.tsa import stattools\n",
    "from statsmodels.graphics import gofplots\n",
    "from scipy import stats\n",
    "from statsmodels.tsa import arima_model\n",
    "from statsmodels.regression import linear_model\n",
    "from os import path"
   ]
  },
  {
   "cell_type": "markdown",
   "metadata": {},
   "source": [
    "Part 1: Estimate the coefficient of a linear price impact function and deduce the risk-aversion of the market maker from it"
   ]
  },
  {
   "cell_type": "code",
   "execution_count": 3,
   "metadata": {},
   "outputs": [],
   "source": [
    "# Loop through files to get all data from Nov3 - Nov26\n",
    "# Define function to return parameters: a) midprices and order flow b) Heights of LOB\n",
    "\n",
    "def getPF(ticker, start, end):\n",
    "    # presumption: must have the 'Nov-2014' data folder in the working directory\n",
    "    ''' startTime = 10*60*30 #10:00 (30mins after open)\n",
    "    endTime = 10*60*60*6 #15:30 (30mins before close)'''\n",
    "    \n",
    "    P = np.array([])\n",
    "    volMO = np.array([])\n",
    "    Pa3s = np.array([])\n",
    "    Pb3s = np.array([])\n",
    "    askvolSum = np.array([])\n",
    "    bidvolSum = np.array([])\n",
    "    for day in range(start,end+1):\n",
    "        dateStr = f\"{day:02}\"\n",
    "        file = 'Nov-2014/' + ticker +'_201411' + dateStr + '.mat'\n",
    "        if path.exists(file):\n",
    "            data = sio.loadmat(file)\n",
    "            LOB=data['LOB']\n",
    "            ask = np.array(LOB['SellPrice'][0][0]*1e-4)\n",
    "            askvol = np.array(LOB['SellVolume'][0][0]*1.0)\n",
    "            bid = np.array(LOB['BuyPrice'][0][0]*1e-4)\n",
    "            bidvol = np.array(LOB['BuyVolume'][0][0]*1.0)\n",
    "            vMO = np.array(LOB['VolumeMO'][0][0]*1.0)\n",
    "\n",
    "            Pa3s = np.append(Pa3s, ask[:,2])\n",
    "            Pb3s = np.append(Pb3s, bid[:,2])\n",
    "            midprice = 0.5*(bid[:,0]+ask[:,0])\n",
    "            P = np.append(P, midprice)\n",
    "            volMO = np.append(volMO, vMO[:,0]-vMO[:,1])\n",
    "            askvolSum = np.append(askvolSum, np.sum(askvol[:,0:3],axis=1))\n",
    "            bidvolSum = np.append(bidvolSum, np.sum(bidvol[:,0:3],axis=1))\n",
    "\n",
    "    OF = np.cumsum(volMO)\n",
    "    Ha = askvolSum / (Pa3s - P)\n",
    "    Hb = bidvolSum / (P - Pb3s)\n",
    "    return P, OF, Ha, Hb"
   ]
  },
  {
   "cell_type": "code",
   "execution_count": 4,
   "metadata": {},
   "outputs": [
    {
     "name": "stdout",
     "output_type": "stream",
     "text": [
      "impact(slope): 8.516535910053103e-07\n",
      "intercept: -5.1032892281204695e-06\n",
      "0.0\n",
      "impact(LOB): 1.599593907717814e-06\n"
     ]
    }
   ],
   "source": [
    "# get MSFT parameters\n",
    "Pms, OF, Ha, Hb = getPF('MSFT',3,26)\n",
    "\n",
    "# a) Estimate price impact coefficient using the midprice and orderflow\n",
    "# get values at the start of every second\n",
    "P2 = Pms[::10]\n",
    "OF2 = OF[::10]\n",
    "slope, intercept, r_value, p_value, std_err = stats.linregress(np.diff(OF2), np.diff(P2))\n",
    "MSFTa = slope\n",
    "print('impact(slope):', slope)\n",
    "print('intercept:', intercept)\n",
    "print(p_value)\n",
    "\n",
    "# b) estimate price impact coefficient via LOB\n",
    "lambdas = (1/Ha + 1/Hb)/2\n",
    "MSFTb = np.mean(lambdas)\n",
    "print('impact(LOB):', MSFTb)"
   ]
  },
  {
   "cell_type": "code",
   "execution_count": 5,
   "metadata": {},
   "outputs": [
    {
     "name": "stdout",
     "output_type": "stream",
     "text": [
      "impact(slope): 0.00011410857525993758\n",
      "intercept: -5.809990990859403e-05\n",
      "0.0\n",
      "impact(LOB): 0.0005758615962403105\n"
     ]
    }
   ],
   "source": [
    "# get GOOG parameters\n",
    "Pgg, OF, Ha, Hb = getPF('GOOG',3,26)\n",
    "\n",
    "# a) Estimate price impact coefficient using the midprice and orderflow\n",
    "# get values at the start of every second\n",
    "P2 = Pgg[::10]\n",
    "OF2 = OF[::10]\n",
    "slope, intercept, r_value, p_value, std_err = stats.linregress(np.diff(OF2), np.diff(P2))\n",
    "GOOGa = slope\n",
    "print('impact(slope):', slope)\n",
    "print('intercept:', intercept)\n",
    "print(p_value)\n",
    "\n",
    "# b) estimate price impact coefficient via LOB\n",
    "lambdas = (1/Ha + 1/Hb)/2\n",
    "GOOGb = np.mean(lambdas)\n",
    "print('impact(LOB):', GOOGb)"
   ]
  },
  {
   "cell_type": "code",
   "execution_count": 6,
   "metadata": {},
   "outputs": [
    {
     "name": "stdout",
     "output_type": "stream",
     "text": [
      "MSFT Var: 0.002497142336780609\n",
      "GOOG Var: 0.3577849575469325\n",
      "\n",
      "Risk Aversion\n",
      "MSFT:\n",
      "a) 0.00017052564014097965\n",
      "b) 0.0003202848880813215\n",
      "GOOG:\n",
      "a) 0.00015946530569968046\n",
      "b) 0.0008047593730443122\n"
     ]
    }
   ],
   "source": [
    "# c) calculate the risk-aversion of the market maker\n",
    "\n",
    "# approximate fundamental vals from midprice variance\n",
    "h = 10*60*5 #number of timestamps in 5 mins\n",
    "VARms = np.var(np.diff(Pms[::h]))\n",
    "VARgg = np.var(np.diff(Pgg[::h]))\n",
    "print('MSFT Var:', VARms)\n",
    "print('GOOG Var:', VARgg)\n",
    "print()\n",
    "\n",
    "# Risk Aversion\n",
    "RA_MSFT_a = MSFTa/(2*VARms)\n",
    "RA_MSFT_b = MSFTb/(2*VARms)\n",
    "RA_GOOG_a = GOOGa/(2*VARgg)\n",
    "RA_GOOG_b = GOOGb/(2*VARgg)\n",
    "\n",
    "print('Risk Aversion')\n",
    "print('MSFT:')\n",
    "print('a)', RA_MSFT_a)\n",
    "print('b)', RA_MSFT_b)\n",
    "print('GOOG:')\n",
    "print('a)', RA_GOOG_a)\n",
    "print('b)', RA_GOOG_b)"
   ]
  },
  {
   "cell_type": "markdown",
   "metadata": {},
   "source": [
    "Part 2: Implement trading strategy based on predicting prices via order flow"
   ]
  },
  {
   "cell_type": "code",
   "execution_count": 2,
   "metadata": {},
   "outputs": [],
   "source": [
    "# Load data\n",
    "data = sio.loadmat('Nov-2014/MSFT_20141103.mat')\n",
    "LOB = data['LOB']\n",
    "\n",
    "t = (np.array((LOB['EventTime'][0][0][:,0]))-3600000*9.5)*1e-3 #time in seconds, measured from NASDAQ opening at 9:30am\n",
    "bid = np.array(LOB['BuyPrice'][0][0]*1e-4)\n",
    "bidvol = np.array(LOB['BuyVolume'][0][0]*1.0)\n",
    "ask = np.array(LOB['SellPrice'][0][0]*1e-4)\n",
    "askvol = np.array(LOB['SellVolume'][0][0]*1.0)\n",
    "nMO = np.array(LOB['NumberMO'][0][0]*1.0)\n",
    "vMO = np.array(LOB['VolumeMO'][0][0]*1.0)\n",
    "MO=np.array(LOB['MO'][0][0]*1.0)\n",
    "dt = t[1]-t[0]\n",
    "OF = np.cumsum(vMO[:,0]-vMO[:,1])\n",
    "midprice = 0.5*(bid[:,0]+ask[:,0])"
   ]
  },
  {
   "cell_type": "code",
   "execution_count": 3,
   "metadata": {},
   "outputs": [],
   "source": [
    "# Define hyper parameters and function to extract parameters from running window\n",
    "\n",
    "q = 100\n",
    "estWin = 10*60*10 #10 mins\n",
    "K = 10*60*3 #3 mins (timestamps of prediction interval)\n",
    "tP = 0.02999\n",
    "lP = 0.03999\n",
    "p_upper = 0.05\n",
    "rho_lower = 0.02\n",
    "R_lower = 0.7\n",
    "\n",
    "def getParams(startT):\n",
    "    t_win = list(t[startT-estWin:startT]-t[startT-estWin])[::10]\n",
    "    OF_win = list(OF[startT-estWin:startT]-OF[startT-estWin])[::10]\n",
    "    P_win = list(midprice[startT-estWin:startT])[::10]\n",
    "    #print(len(t_win), len(OF_win), len(P_win))\n",
    "    slope, intercept, r_val, p_val, std_err = stats.linregress(t_win,OF_win)\n",
    "    a = intercept\n",
    "    b = slope\n",
    "    OF_centered = [(OF_win[i] - t_win[i]*b - a) for i in range(len(OF_win))]\n",
    "    phi, sigma = linear_model.yule_walker(OF_centered,order=1)\n",
    "    rho = 1 - phi\n",
    "    \n",
    "    OF_diff = np.diff(OF_win)\n",
    "    P_diff = np.diff(P_win)\n",
    "    #print(OF_diff.shape, P_diff.shape)\n",
    "    slope, intercept, R, p2, std_err = stats.linregress(OF_diff, P_diff)\n",
    "    impact = slope \n",
    "    P_diff_cen = [(P_diff[i] - OF_diff[i]*impact - intercept) for i in range(len(P_diff))]\n",
    "    my_DF = stattools.adfuller(P_diff_cen,1,'c',None)\n",
    "    p1 = my_DF[1]\n",
    "\n",
    "    return p1, p2, R, impact, a, b, rho, OF_centered[-1], sigma\n",
    "    "
   ]
  },
  {
   "cell_type": "code",
   "execution_count": 4,
   "metadata": {},
   "outputs": [
    {
     "name": "stdout",
     "output_type": "stream",
     "text": [
      "time: 30000\n",
      "time: 40000\n",
      "time: 50000\n",
      "time: 60000\n",
      "time: 70000\n",
      "time: 80000\n",
      "time: 90000\n",
      "time: 100000\n",
      "time: 110000\n",
      "time: 120000\n",
      "time: 130000\n",
      "time: 140000\n",
      "time: 150000\n",
      "time: 160000\n",
      "time: 170000\n",
      "time: 180000\n",
      "time: 190000\n",
      "time: 200000\n",
      "time: 210000\n"
     ]
    }
   ],
   "source": [
    "# Loop through every point in time t, carrying out our strategy\n",
    "\n",
    "# set parameters\n",
    "shares = [0]\n",
    "PnL = [0]\n",
    "startTime = 10*60*40 #10:10 (40mins after open)\n",
    "endTime = 10*60*60*6 #15:30 (30mins before close)\n",
    "maxHoldingTime = 0\n",
    "targetPrice = 0\n",
    "lossPrice = 0\n",
    "F_upper = 0\n",
    "a, b, t0 = 0, 0, 0\n",
    "\n",
    "for time in range(startTime, endTime):\n",
    "    shares.append(shares[-1])\n",
    "    PnL.append(PnL[-1])\n",
    "    if time%10000 == 0:\n",
    "        print('time:', time)\n",
    "    if shares[-1] == 0:\n",
    "        p1, p2, R, impact, a, b, rho, Fm, sigma = getParams(time)\n",
    "\n",
    "        # if conditions are met, open a position\n",
    "        if p1<p_upper and p2<p_upper and rho>rho_lower and R>R_lower:\n",
    "            # predicted change in midprice\n",
    "            dP = impact*b*K/10 + impact*Fm*((1-rho)**(K/10)-1)-impact*sigma\n",
    "            F_lower = 1.3 * sigma\n",
    "            F_upper = 2 * sigma\n",
    "            t0 = time\n",
    "            maxHoldingTime = time + K\n",
    "            if dP >= tP and Fm > -F_lower:\n",
    "                targetPrice = ask[time,0] + tP\n",
    "                lossPrice = ask[time,0] - lP\n",
    "                shares[-1] += q \n",
    "                PnL[-1] -= q*bid[time,0]\n",
    "            elif dP <= tP and Fm < F_lower:\n",
    "                targetPrice = bid[time,0] - tP\n",
    "                lossPrice = bid[time,0] + lP\n",
    "                shares[-1] -= q \n",
    "                PnL[-1] += q*ask[time,0]\n",
    "    else:\n",
    "        if shares[-1]>0: # close long position if conditions are met\n",
    "            if ask[time,0] >= targetPrice:\n",
    "                shares[-1] -= q\n",
    "                PnL[-1] += q*(ask[time,0] - 0.01)\n",
    "            elif bid[time,0] <= lossPrice:\n",
    "                shares[-1] -= q\n",
    "                PnL[-1] += q*lossPrice\n",
    "            elif time > maxHoldingTime:\n",
    "                shares[-1] -= q\n",
    "                PnL[-1] += q*bid[time,0]\n",
    "            elif OF[time] - a - b*(time-t0+estWin)/10 < -F_upper:\n",
    "                shares[-1] -= q\n",
    "                PnL[-1] += q*bid[time,0]\n",
    "\n",
    "        if shares[-1]<0: # close Short position if conditions are met\n",
    "            if bid[time,0] <= targetPrice:\n",
    "                shares[-1] += q\n",
    "                PnL[-1] -= q*(bid[time,0] + 0.01)\n",
    "            elif ask[time,0] >= lossPrice:\n",
    "                shares[-1] += q\n",
    "                PnL[-1] -= q*lossPrice\n",
    "            elif time > maxHoldingTime:\n",
    "                shares[-1] += q\n",
    "                PnL[-1] -= q*ask[time,0]\n",
    "            elif OF[time] - a - b*(time-t0+estWin)/10 > F_upper:\n",
    "                shares[-1] += q\n",
    "                PnL[-1] -= q*ask[time,0]\n",
    "    "
   ]
  },
  {
   "cell_type": "code",
   "execution_count": 5,
   "metadata": {},
   "outputs": [],
   "source": [
    "# save PnL process\n",
    "np.savetxt('Abs_PnL.csv', np.array(PnL), delimiter=',')"
   ]
  },
  {
   "cell_type": "code",
   "execution_count": 184,
   "metadata": {},
   "outputs": [
    {
     "data": {
      "text/plain": [
       "Text(0, 0.5, 'USD')"
      ]
     },
     "execution_count": 184,
     "metadata": {},
     "output_type": "execute_result"
    },
    {
     "data": {
      "image/png": "[encoded data removed]",
      "text/plain": [
       "<Figure size 1080x360 with 1 Axes>"
      ]
     },
     "metadata": {
      "needs_background": "light"
     },
     "output_type": "display_data"
    }
   ],
   "source": [
    "# Plot the PnL process\n",
    "plt.plot(PnL)\n",
    "plt.title('Abs PnL')\n",
    "plt.xlabel('timestamp')\n",
    "plt.ylabel('USD')"
   ]
  },
  {
   "cell_type": "code",
   "execution_count": 189,
   "metadata": {},
   "outputs": [
    {
     "name": "stdout",
     "output_type": "stream",
     "text": [
      "Gross Profit: 6.001000000002023\n"
     ]
    },
    {
     "data": {
      "image/png": "[encoded data removed]",
      "text/plain": [
       "<Figure size 1080x360 with 1 Axes>"
      ]
     },
     "metadata": {
      "needs_background": "light"
     },
     "output_type": "display_data"
    }
   ],
   "source": [
    "# Zoom in \n",
    "plt.plot(PnL)\n",
    "plt.title('Abs PnL')\n",
    "plt.xlabel('timestamp')\n",
    "plt.ylabel('USD')\n",
    "plt.ylim(-5,12)\n",
    "\n",
    "# Final Profit\n",
    "print('Gross Profit:', PnL[-1])"
   ]
  },
  {
   "cell_type": "code",
   "execution_count": 192,
   "metadata": {},
   "outputs": [
    {
     "data": {
      "text/plain": [
       "Text(0.5, 0, 'timestamp')"
      ]
     },
     "execution_count": 192,
     "metadata": {},
     "output_type": "execute_result"
    },
    {
     "data": {
      "image/png": "[encoded data removed]",
      "text/plain": [
       "<Figure size 1080x360 with 1 Axes>"
      ]
     },
     "metadata": {
      "needs_background": "light"
     },
     "output_type": "display_data"
    }
   ],
   "source": [
    "# Visualizing midprice for reference\n",
    "plt.plot(midprice[startTime:endTime])\n",
    "plt.title('Midprice')\n",
    "plt.ylabel('USD')\n",
    "plt.xlabel('timestamp')"
   ]
  },
  {
   "cell_type": "code",
   "execution_count": null,
   "metadata": {},
   "outputs": [],
   "source": []
  }
 ],
 "metadata": {
  "kernelspec": {
   "display_name": "Python 3",
   "language": "python",
   "name": "python3"
  },
  "language_info": {
   "codemirror_mode": {
    "name": "ipython",
    "version": 3
   },
   "file_extension": ".py",
   "mimetype": "text/x-python",
   "name": "python",
   "nbconvert_exporter": "python",
   "pygments_lexer": "ipython3",
   "version": "3.7.4"
  }
 },
 "nbformat": 4,
 "nbformat_minor": 2
}
